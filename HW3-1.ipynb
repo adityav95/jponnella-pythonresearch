{
 "cells": [
  {
   "cell_type": "markdown",
   "metadata": {},
   "source": [
    "# Using Python for Research Homework: Week 3, Case Study 1\n",
    "\n",
    "A cipher is a secret code for a language.  In this case study, we will explore a cipher that is reported by contemporary Greek historians to have been used by Julius Caesar to send secret messages to generals during times of war."
   ]
  },
  {
   "cell_type": "markdown",
   "metadata": {},
   "source": [
    "### Exercise 1\n",
    "\n",
    "A cipher is a secret code for a language. In this case study, we will explore a cipher that is reported by contemporary Greek historians to have been used by Julius Caesar to send secret messages to generals during times of war.\n",
    "\n",
    "The Caesar cipher shifts each letter of a message to another letter in the alphabet located a fixed distance from the original letter. If our encryption key were `1`, we would shift `h` to the next letter `i`, `i` to the next letter `j`, and so on. If we reach the end of the alphabet, which for us is the space character, we simply loop back to `a`. To decode the message, we make a similar shift, except we move the same number of steps backwards in the alphabet.\n",
    "\n",
    "Over the next five exercises, we will create our own Caesar cipher, as well as a message decoder for this cipher. In this exercise, we will define the alphabet used in the cipher.\n",
    "\n",
    "#### Instructions\n",
    "- The `string` library has been imported. Create a string called `alphabet` consisting of the space character `' '` followed by (concatenated with) the lowercase letters. Note that we're only using the lowercase letters in this exercise."
   ]
  },
  {
   "cell_type": "code",
   "execution_count": 1,
   "metadata": {},
   "outputs": [
    {
     "name": "stdout",
     "output_type": "stream",
     "text": [
      " abcdefghijklmnopqrstuvwxyz\n"
     ]
    }
   ],
   "source": [
    "import string\n",
    "# write your code here!\n",
    "alphabet = \" \"+string.ascii_lowercase\n",
    "print(alphabet)"
   ]
  },
  {
   "cell_type": "markdown",
   "metadata": {},
   "source": [
    "### Exercise 2 \n",
    "\n",
    "In this exercise, we will define a dictionary that specifies the index of each character in `alphabet`.\n",
    "\n",
    "#### Instructions \n",
    "- `alphabet` has already defined in the last exercise. Create a dictionary with keys consisting of the characters in alphabet and values consisting of the numbers from 0 to 26.\n",
    "- Store this as `positions`."
   ]
  },
  {
   "cell_type": "code",
   "execution_count": 4,
   "metadata": {},
   "outputs": [
    {
     "name": "stdout",
     "output_type": "stream",
     "text": [
      "{' ': 0, 'a': 1, 'b': 2, 'c': 3, 'd': 4, 'e': 5, 'f': 6, 'g': 7, 'h': 8, 'i': 9, 'j': 10, 'k': 11, 'l': 12, 'm': 13, 'n': 14, 'o': 15, 'p': 16, 'q': 17, 'r': 18, 's': 19, 't': 20, 'u': 21, 'v': 22, 'w': 23, 'x': 24, 'y': 25, 'z': 26}\n",
      "{0: ' ', 1: 'a', 2: 'b', 3: 'c', 4: 'd', 5: 'e', 6: 'f', 7: 'g', 8: 'h', 9: 'i', 10: 'j', 11: 'k', 12: 'l', 13: 'm', 14: 'n', 15: 'o', 16: 'p', 17: 'q', 18: 'r', 19: 's', 20: 't', 21: 'u', 22: 'v', 23: 'w', 24: 'x', 25: 'y', 26: 'z'}\n"
     ]
    }
   ],
   "source": [
    "# write your code here!\n",
    "positions = {}\n",
    "\n",
    "for i in range(len(alphabet)):\n",
    "    positions[alphabet[i]] = i\n",
    "    \n",
    "print(positions)\n",
    "\n",
    "pos_value = {}\n",
    "\n",
    "for i in range(len(alphabet)):\n",
    "    pos_value[i] = alphabet[i]\n",
    "    \n",
    "print(pos_value)"
   ]
  },
  {
   "cell_type": "markdown",
   "metadata": {},
   "source": [
    "### Exercise 3\n",
    "\n",
    "In this exercise, we will encode a message with a Caesar cipher.\n",
    "\n",
    "#### Instructions \n",
    "\n",
    "- `alphabet` and `positions` have already been defined in previous exercises. Use `positions` to create an encoded message based on message where each character in message has been shifted forward by 1 position, as defined by positions.\n",
    "- **Note that you can ensure the result remains within 0-26 using result % 27**\n",
    "- Store this as `encoded_message`."
   ]
  },
  {
   "cell_type": "code",
   "execution_count": 16,
   "metadata": {},
   "outputs": [
    {
     "name": "stdout",
     "output_type": "stream",
     "text": [
      "ijanzaobnfajtadbftbs\n"
     ]
    }
   ],
   "source": [
    "message = \"hi my name is caesar\"\n",
    "# write your code here!\n",
    "\n",
    "def encode(message, shift):\n",
    "    \"\"\"This function encodes a message by shifting each letter by a positive value i.e. a Ceasar's cipher. Only alphabets and spaces are allowed and no other special characters are allowed. The sequence followed is space followed by the 26 alphabets in order.\"\"\"\n",
    "    message_encoded = \"\"\n",
    "    message = message.lower()\n",
    "    shift = shift % 27\n",
    "    if type(message) is str and type(shift) is int and shift >= 0 :\n",
    "        for i in range(len(message)):\n",
    "            if positions[message[i]]+shift <= 26:\n",
    "                message_encoded = message_encoded + pos_value[positions[message[i]]+shift]\n",
    "            else:\n",
    "                move = 0\n",
    "                move = (positions[message[i]]+shift)%27\n",
    "                message_encoded = message_encoded + pos_value[move]\n",
    "    elif type(message) is not str:\n",
    "        print(\"Error! Message is not a string!\")\n",
    "    elif type(shift) is not int or shift < 0:\n",
    "        print(\"Error! Shift value is not a positive integer!\")\n",
    "    else:\n",
    "        print(\"Unknown error!\")\n",
    "    return message_encoded\n",
    "\n",
    "encoded_message = encode(message,1)\n",
    "print(encoded_message)"
   ]
  },
  {
   "cell_type": "markdown",
   "metadata": {},
   "source": [
    "### Exercise 4\n",
    "\n",
    "In this exercise, we will define a function that encodes a message with any given encryption key.\n",
    "\n",
    "#### Instructions \n",
    "- `alphabet`, `position` and `message` remain defined from previous exercises. Define a function `encoding` that takes a message as input as well as an int encryption key `key` to encode a message with the Caesar cipher by shifting each letter in message by key positions.\n",
    "- Your function should return a string consisting of these encoded letters.\n",
    "- Use `encoding` to encode message using `key = 3` and save the result as `encoded_message`.\n",
    "Print `encoded_message`."
   ]
  },
  {
   "cell_type": "code",
   "execution_count": 17,
   "metadata": {},
   "outputs": [
    {
     "name": "stdout",
     "output_type": "stream",
     "text": [
      "klcpacqdphclvcfdhvdu\n"
     ]
    }
   ],
   "source": [
    "# write your code here \n",
    "encoded_message = encode(message, 3)\n",
    "print(encoded_message)"
   ]
  },
  {
   "cell_type": "markdown",
   "metadata": {},
   "source": [
    "### Exercise 5\n",
    "\n",
    "In this exercise, we will decode an encoded message.\n",
    "\n",
    "#### Instructions \n",
    "- Use `encoding` to decode `encoded_message`.\n",
    "- Store your encoded message as `decoded_message`.\n",
    "- Print `decoded_message`. Does this recover your original message?"
   ]
  },
  {
   "cell_type": "code",
   "execution_count": 34,
   "metadata": {},
   "outputs": [
    {
     "name": "stdout",
     "output_type": "stream",
     "text": [
      "hi my name is caesar\n"
     ]
    }
   ],
   "source": [
    "# write your code here!\n",
    "def decode(message, shift):\n",
    "    \"\"\"This function decodes a message by shifting each letter backwards by the value specified in 'shift' i.e. the opposite of a Ceasar's cipher. Note that the shift value has to be a positive integer.Only alphabets and spaces are allowed in the encoded message and no other special characters are allowed. The sequence followed is space followed by the 26 alphabets in order.\"\"\"\n",
    "    message_decoded = \"\"\n",
    "    message = message.lower()\n",
    "    shift = shift % 27\n",
    "    if type(message) is str and type(shift) is int and shift >= 0 :\n",
    "        for i in range(len(message)):\n",
    "            if positions[message[i]]-shift >= 0:\n",
    "                message_decoded = message_decoded + pos_value[positions[message[i]]-shift]\n",
    "            else:\n",
    "                move = 0\n",
    "                move = (positions[message[i]]-shift) % 27\n",
    "                message_decoded = message_decoded + pos_value[move]\n",
    "    elif type(message) is not str:\n",
    "        print(\"Error! Message is not a string!\")\n",
    "    elif type(shift) is not int or shift < 0:\n",
    "        print(\"Error! Shift value is not a positive integer!\")\n",
    "    else:\n",
    "        print(\"Unknown error!\")\n",
    "    return message_decoded\n",
    "\n",
    "decoded_message = decode(encoded_message,3)\n",
    "print(decoded_message)"
   ]
  },
  {
   "cell_type": "code",
   "execution_count": null,
   "metadata": {},
   "outputs": [],
   "source": []
  }
 ],
 "metadata": {
  "kernelspec": {
   "display_name": "Python 3",
   "language": "python",
   "name": "python3"
  },
  "language_info": {
   "codemirror_mode": {
    "name": "ipython",
    "version": 3
   },
   "file_extension": ".py",
   "mimetype": "text/x-python",
   "name": "python",
   "nbconvert_exporter": "python",
   "pygments_lexer": "ipython3",
   "version": "3.7.6"
  }
 },
 "nbformat": 4,
 "nbformat_minor": 4
}
